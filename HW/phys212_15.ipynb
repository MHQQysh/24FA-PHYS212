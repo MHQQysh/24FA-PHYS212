{
 "cells": [
  {
   "cell_type": "code",
   "execution_count": 8,
   "metadata": {},
   "outputs": [
    {
     "name": "stdout",
     "output_type": "stream",
     "text": [
      "6.223492063492063e-08\n"
     ]
    }
   ],
   "source": [
    "i1=5.2\n",
    "d=0.63\n",
    "v=0.13\n",
    "w=0.29\n",
    "from math import pi,sqrt\n",
    "miu=pi*4e-7\n",
    "\n",
    "e0=miu*i1/2/pi/d*w*v\n",
    "print(e0)"
   ]
  },
  {
   "cell_type": "code",
   "execution_count": 9,
   "metadata": {},
   "outputs": [
    {
     "name": "stdout",
     "output_type": "stream",
     "text": [
      "1.8321495327102807e-07\n"
     ]
    }
   ],
   "source": [
    "i1=5.2\n",
    "d=0.63\n",
    "v=0.13\n",
    "w=0.29\n",
    "from math import pi,sqrt\n",
    "miu=pi*4e-7\n",
    "t1=3.2\n",
    "d=d-t1*v\n",
    "\n",
    "e0=miu*i1/2/pi/d*w*v\n",
    "print(e0)"
   ]
  },
  {
   "cell_type": "code",
   "execution_count": null,
   "metadata": {},
   "outputs": [],
   "source": [
    "l=0.44\n",
    "w=0.29\n",
    "v=0.13\n",
    "r=1.8\n",
    "d-0.63\n",
    "\n"
   ]
  },
  {
   "cell_type": "code",
   "execution_count": 10,
   "metadata": {},
   "outputs": [
    {
     "name": "stdout",
     "output_type": "stream",
     "text": [
      "-0.005636017220540089\n",
      "-0.0013885839528866885\n",
      "-0.0005818983576685159\n",
      "-0.0007721343592139923\n"
     ]
    }
   ],
   "source": [
    "# 5\n",
    "x0=-6.3e-2\n",
    "i1=2.6\n",
    "i2=4.3\n",
    "from math import pi\n",
    "miu=pi*4e-7\n",
    "\n",
    "\n",
    "bp1=-miu*i1/2*1300-miu*i2/2*1300\n",
    "print(bp1)\n",
    "bp2=miu*i1/2*1300-miu*i2/2*1300\n",
    "print(bp2)\n",
    "\n",
    "print(-miu*i1*1300*0.137)\n",
    "print(bp1*0.137)"
   ]
  },
  {
   "cell_type": "code",
   "execution_count": null,
   "metadata": {},
   "outputs": [
    {
     "ename": "NameError",
     "evalue": "name 'b' is not defined",
     "output_type": "error",
     "traceback": [
      "\u001b[1;31m---------------------------------------------------------------------------\u001b[0m",
      "\u001b[1;31mNameError\u001b[0m                                 Traceback (most recent call last)",
      "Cell \u001b[1;32mIn[11], line 11\u001b[0m\n\u001b[0;32m      8\u001b[0m v\u001b[38;5;241m=\u001b[39m\u001b[38;5;241m13\u001b[39m\n\u001b[0;32m      9\u001b[0m r\u001b[38;5;241m=\u001b[39m\u001b[38;5;241m1.8\u001b[39m\n\u001b[1;32m---> 11\u001b[0m e\u001b[38;5;241m=\u001b[39m\u001b[43mb\u001b[49m\u001b[38;5;241m*\u001b[39ml\u001b[38;5;241m*\u001b[39mv\n\u001b[0;32m     12\u001b[0m \u001b[38;5;28mprint\u001b[39m(e)\n",
      "\u001b[1;31mNameError\u001b[0m: name 'b' is not defined"
     ]
    }
   ],
   "source": [
    "# 9\n",
    "w=0.29\n",
    "l=0.44\n",
    "\n",
    "d=0.63\n",
    "\n",
    "\n",
    "v=13\n",
    "r=1.8\n",
    "\n",
    "e=*l*v\n",
    "print(e)\n"
   ]
  }
 ],
 "metadata": {
  "kernelspec": {
   "display_name": "Python 3",
   "language": "python",
   "name": "python3"
  },
  "language_info": {
   "codemirror_mode": {
    "name": "ipython",
    "version": 3
   },
   "file_extension": ".py",
   "mimetype": "text/x-python",
   "name": "python",
   "nbconvert_exporter": "python",
   "pygments_lexer": "ipython3",
   "version": "3.12.6"
  }
 },
 "nbformat": 4,
 "nbformat_minor": 2
}
