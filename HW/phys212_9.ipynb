{
 "cells": [
  {
   "cell_type": "code",
   "execution_count": null,
   "metadata": {},
   "outputs": [],
   "source": []
  },
  {
   "cell_type": "code",
   "execution_count": 8,
   "metadata": {},
   "outputs": [
    {
     "name": "stdout",
     "output_type": "stream",
     "text": [
      "477.5416666666667\n",
      "0.061855670103092786\n",
      "2.9690721649484533\n",
      "0.018911287674830912\n",
      "2.9690721649484537\n"
     ]
    }
   ],
   "source": [
    "# 4\n",
    "\n",
    "r1=48\n",
    "r2=157\n",
    "r3=146\n",
    "r4=87\n",
    "rx=r2*r3/r1\n",
    "\n",
    "print(rx)\n",
    "\n",
    "v=12\n",
    "\n",
    "x=r2+rx\n",
    "y=r1+r3\n",
    "r=x*y/(x+y)\n",
    "Ia=v/y\n",
    "print(Ia)\n",
    "Ib=v/x\n",
    "v2=Ib*r2\n",
    "\n",
    "print(v2)\n",
    "print(Ib)\n",
    "\n",
    "v1=r1*Ia\n",
    "print(v1)"
   ]
  },
  {
   "cell_type": "code",
   "execution_count": 13,
   "metadata": {},
   "outputs": [
    {
     "name": "stdout",
     "output_type": "stream",
     "text": [
      "56.74666666666667\n",
      "119.74666666666667\n",
      "0.06566467240624543\n",
      "0.01663505034291551\n",
      "3.726251276813074\n"
     ]
    }
   ],
   "source": [
    "# 5\n",
    "r1=r5=63\n",
    "r2=107\n",
    "r3=117\n",
    "r4=76\n",
    "v=12\n",
    "\n",
    "r234=(r2+r3)*r4/(r2+r3+r4)\n",
    "r12345=r234+r1+r5\n",
    "\n",
    "print(r234)\n",
    "print(r234+r1)\n",
    "print(v/r12345)\n",
    "\n",
    "print(v/r12345*r234/(r2+r3))\n",
    "print(v/r12345*r234)"
   ]
  },
  {
   "cell_type": "code",
   "execution_count": 56,
   "metadata": {},
   "outputs": [
    {
     "name": "stdout",
     "output_type": "stream",
     "text": [
      "{i1: 32/725, i2: 42/725}\n",
      "{i1: 32/725, i2: 42/725}\n"
     ]
    }
   ],
   "source": [
    "# 7 current div\n",
    "r1=100\n",
    "r2=200\n",
    "r3=30\n",
    "r4=400\n",
    "v1=4\n",
    "v2=12\n",
    "\n",
    "\n",
    "import sympy as s\n",
    "i1=s.S('i1')\n",
    "i2=s.S('i2')\n",
    "\n",
    "\n",
    "\n",
    "q1=v1-r1*i1-(i1-i2)*r3\n",
    "\n",
    "q2=v1-r1*i1+12-i2*r2\n",
    "\n",
    "s1=s.solve([q1,q2],[i1,i2])\n",
    "\n",
    "i1=s1[i1]\n",
    "i2=s1[i2]\n",
    "print(s1)\n",
    "print(s1)\n",
    "\n"
   ]
  },
  {
   "cell_type": "code",
   "execution_count": 1,
   "metadata": {},
   "outputs": [
    {
     "name": "stdout",
     "output_type": "stream",
     "text": [
      "{i2: 351/15385, i3: -1743/15385, i4: 117933/1123105}\n",
      "v4: -522/73\n",
      "-0.07792207792207792\n",
      "7.150684931506849\n",
      "2094/15385\n",
      "30537/15385\n"
     ]
    }
   ],
   "source": [
    "# 8\n",
    "v1=18\n",
    "v2=12\n",
    "r1=r5=59\n",
    "r2=r6=87\n",
    "r3=88\n",
    "r4=87\n",
    "\n",
    "import sympy as s\n",
    "i2=s.S('i2')\n",
    "i3=s.S('i3')\n",
    "i4=s.S('i4')\n",
    "\n",
    "\n",
    "q1=v1+i3*r3+i2*r2-v2+i2*r6\n",
    "q2=v1+r3*i3-(i2-i3)*r1\n",
    "q3=v2+(i2-i4)*(r5+r4)\n",
    "s1=s.solve([q1,q2,q3],[i2,i3,i4])\n",
    "\n",
    "i2=s1[i2]\n",
    "i3=s1[i3]\n",
    "i4=s1[i4]\n",
    "print(s1)\n",
    "v4=(i2-i4)*r4\n",
    "print('v4:',v4)\n",
    "\n",
    "\n",
    "\n",
    "\n",
    "# print(v2,r4,r5)\n",
    "\n",
    "print(84/11819-77382/910063)\n",
    "print(v2/(r4+r5)*r4)\n",
    "print(i2-i3)\n",
    "print(i2*r6)"
   ]
  },
  {
   "cell_type": "code",
   "execution_count": 54,
   "metadata": {},
   "outputs": [
    {
     "name": "stdout",
     "output_type": "stream",
     "text": [
      "0.10001265796518022\n",
      "3.299582340016309\n",
      "0.023247494345417192\n",
      "0.5657174731746227\n",
      "7.3694557074972495\n"
     ]
    }
   ],
   "source": [
    "# 9\n",
    "v=12\n",
    "r1=r3=43\n",
    "r4=r5=137\n",
    "r2=96\n",
    "vb=11.67\n",
    "\n",
    "\n",
    "r2345=r2*(r3+r4+r5)/(r2+r3+r4+r5)\n",
    "r12345=r1+r2345\n",
    "\n",
    "r=(v-vb)*r12345/vb\n",
    "r12345r=r12345+r\n",
    "i1=v/r12345r\n",
    "print(i1)\n",
    "print(r)\n",
    "\n",
    "\n",
    "i3=i1*r2345/(r3+r4+r5)\n",
    "print(i3)\n",
    "i2=i1*r2345/(r2)\n",
    "\n",
    "p2=i2**2*r2\n",
    "print(p2)\n",
    "v2=i2*r2\n",
    "\n",
    "print(v2)"
   ]
  }
 ],
 "metadata": {
  "kernelspec": {
   "display_name": "Python 3",
   "language": "python",
   "name": "python3"
  },
  "language_info": {
   "codemirror_mode": {
    "name": "ipython",
    "version": 3
   },
   "file_extension": ".py",
   "mimetype": "text/x-python",
   "name": "python",
   "nbconvert_exporter": "python",
   "pygments_lexer": "ipython3",
   "version": "3.12.6"
  }
 },
 "nbformat": 4,
 "nbformat_minor": 2
}
