{
 "cells": [
  {
   "cell_type": "code",
   "execution_count": 33,
   "metadata": {},
   "outputs": [
    {
     "name": "stdout",
     "output_type": "stream",
     "text": [
      "1.0784313725490198\n",
      "3.799999999999999e-06\n",
      "3.06\n",
      "0.18433734939759036\n",
      "1.4654819277108436e-05\n"
     ]
    }
   ],
   "source": [
    "# 1\n",
    "r=5.1\n",
    "v=5.5\n",
    "i1=v/r\n",
    "print(i1)\n",
    "\n",
    "# qt=q(1-e**(-t/tao))\n",
    "\n",
    "\n",
    "qt=20.9*10**(-6)\n",
    "c=qt/v\n",
    "\n",
    "print(c)\n",
    "\n",
    "\n",
    "\n",
    "c=7.5*10**(-6)\n",
    "r1=6\n",
    "r2=8.8\n",
    "r3=1.8\n",
    "i3=0.51\n",
    "v3=i3*r1\n",
    "print(i3*r1)\n",
    "\n",
    "i4=v3/(r1+r2+r3)\n",
    "print(i4)\n",
    "\n",
    "\n",
    "q5=i4*(r2+r3)*c\n",
    "print(q5)\n",
    "\n",
    "\n",
    "\n"
   ]
  },
  {
   "cell_type": "code",
   "execution_count": 35,
   "metadata": {},
   "outputs": [
    {
     "name": "stdout",
     "output_type": "stream",
     "text": [
      "0.0002133333333333333\n"
     ]
    }
   ],
   "source": [
    "# 2\n",
    "v=12\n",
    "r1=110\n",
    "r2=220\n",
    "r3=330\n",
    "c1=40*10**(-6)\n",
    "c2=80*10**(-6)\n",
    "\n",
    "\n",
    "c=c1*c2/(c1+c2)\n",
    "v1=v/(r1+r2)*r2\n",
    "\n",
    "# 同时串联，相同q，视作一个整体c的q\n",
    "q=c*v1\n",
    "print(q)\n"
   ]
  },
  {
   "cell_type": "code",
   "execution_count": 17,
   "metadata": {},
   "outputs": [
    {
     "name": "stdout",
     "output_type": "stream",
     "text": [
      "0.17777777777777778\n",
      "0.08\n",
      "1055.9999999999998\n",
      "0.128\n",
      "1056.0\n"
     ]
    }
   ],
   "source": [
    "# 3\n",
    "r1=r2=48\n",
    "r3=117\n",
    "r4=87\n",
    "c=80*10**(-6)\n",
    "v=24\n",
    "\n",
    "i0=v/(r1+r4)\n",
    "print(i0)\n",
    "i1=v/(r1+r2+r3+r4)\n",
    "print(i1)\n",
    "\n",
    "q1=c*i1*(r2+r3)*10**(6)\n",
    "print(q1)\n",
    "\n",
    "r5=77\n",
    "\n",
    "i2=v/(r1+r4+r5*(r2+r3)/(r3+r2+r5))\n",
    "print(i2)\n",
    "\n",
    "i3=v/(r1+r4+(r2+r3))\n",
    "\n",
    "q3=i3*(r2+r3)*c*10**(6)\n",
    "print(q3)\n",
    "\n"
   ]
  },
  {
   "cell_type": "code",
   "execution_count": 26,
   "metadata": {},
   "outputs": [
    {
     "name": "stdout",
     "output_type": "stream",
     "text": [
      "一 0.05288166768853464\n",
      "二 158.8235294117647\n",
      "三 139.52286442861165\n",
      "四 0.03310852237890864\n",
      "五 0.027621483375959082\n"
     ]
    }
   ],
   "source": [
    "# 4\n",
    "r1=r2=43\n",
    "r3=72\n",
    "r4=157\n",
    "c=50*10**(-6)\n",
    "v=12\n",
    "t=745*10**(-6)\n",
    "\n",
    "\n",
    "\n",
    "i0=v/(r1+r4+r2*r3/(r2+r3))\n",
    "\n",
    "print(\"一\",i0)\n",
    "# 时间长，视为c代表一个正无穷的电阻\n",
    "# 然后穿过c的v就是其余的i×R\n",
    "\n",
    "i1=v/(r1+r4+r3)\n",
    "q1=i1*r3*c*10**(6)\n",
    "print(\"二\",q1)\n",
    "\n",
    "q=v/(r1+r4+r3)*r3*c\n",
    "\n",
    "from math import e\n",
    "\n",
    "tao=(r2+r3)*c\n",
    "q2=q*e**(-t/tao)*10**(6)\n",
    "print(\"三\",q2)\n",
    "\n",
    "\n",
    "\n",
    "\n",
    "\n",
    "# 第四题不是很确定，但是我感觉就是最初的电流\n",
    "\n",
    "i2=i0/(r3+r2)*r3\n",
    "print(\"四\",i2)\n",
    "\n",
    "# 第五题也是当作最初的电流\n",
    "\n",
    "\n",
    "v5=i1=v/(r1+r4+r3)*r3\n",
    "i5=v5/(r2+r3)\n",
    "print(\"五\",i5)\n",
    "\n",
    "\n"
   ]
  },
  {
   "cell_type": "code",
   "execution_count": 37,
   "metadata": {},
   "outputs": [
    {
     "name": "stdout",
     "output_type": "stream",
     "text": [
      "2.732531110153622e-08\n"
     ]
    }
   ],
   "source": [
    "# 5\n",
    "m=1.67*10**(-27)\n",
    "q=1.6*10**(-19)\n",
    "\n",
    "b=1.2\n",
    "v=1*10**(6)\n",
    "\n",
    "from math import pi\n",
    "\n",
    "t=2*pi*m/q/b\n",
    "\n",
    "print(t/2)"
   ]
  },
  {
   "cell_type": "code",
   "execution_count": 41,
   "metadata": {},
   "outputs": [
    {
     "name": "stdout",
     "output_type": "stream",
     "text": [
      "46.331999999999994\n",
      "0.9383524277141297\n"
     ]
    }
   ],
   "source": [
    "# 6\n",
    "q=3.6\n",
    "v=3.9\n",
    "b=3.3\n",
    "f=q*v*b\n",
    "\n",
    "\n",
    "print(f)\n",
    "\n",
    "q=1.3\n",
    "b=4.23\n",
    "f=5.16\n",
    "print(f/q/b)\n",
    "\n",
    "b=4.81\n",
    "\n",
    "\n",
    "\n",
    "\n",
    "\n",
    "\n"
   ]
  },
  {
   "cell_type": "code",
   "execution_count": 48,
   "metadata": {},
   "outputs": [
    {
     "name": "stdout",
     "output_type": "stream",
     "text": [
      "1300.9067230563421\n",
      "-0.10500002019712493\n",
      "-0.06062178992572622\n",
      "24.526128321564972\n"
     ]
    }
   ],
   "source": [
    "# 7\n",
    "from math import pi,sqrt\n",
    "m=4.8*10**(-8)\n",
    "b=3.8\n",
    "t=4*809*10**(-6)\n",
    "\n",
    "r=0.67\n",
    "q=m*v/b/r\n",
    "v=2*pi*r/t\n",
    "print(v)\n",
    "\n",
    "\n",
    "f=q*v*b\n",
    "print(-f/2*sqrt(3))#正负，指向中心\n",
    "print(-f/2)\n",
    "\n",
    "print(q*10**6)\n"
   ]
  },
  {
   "cell_type": "code",
   "execution_count": 55,
   "metadata": {},
   "outputs": [
    {
     "name": "stdout",
     "output_type": "stream",
     "text": [
      "478539.444560216\n",
      "1.77743222265223\n",
      "0.180289365509374\n",
      "0.00281009615384615\n"
     ]
    }
   ],
   "source": [
    "# 8\n",
    "\n",
    "m=1.67*10**(-27)\n",
    "q=1.6*10**(-19)\n",
    "vx=4.3*10**5\n",
    "vy=2.1*10**5\n",
    "d=0.78\n",
    "\n",
    "v=sqrt(vx**2+vy**2)\n",
    "from sympy import atan,sqrt,cos,sin\n",
    "print(v)\n",
    "\n",
    "print(d/sin(atan(vy/vx)))\n",
    "print(d/sin(atan(vy/vx))-d/sin(atan(vy/vx))*cos(atan(vy/vx)))\n",
    "\n",
    "r=d/sin(atan(vy/vx))\n",
    "b=m*v/q/r\n",
    "print(b)\n"
   ]
  }
 ],
 "metadata": {
  "kernelspec": {
   "display_name": "Python 3",
   "language": "python",
   "name": "python3"
  },
  "language_info": {
   "codemirror_mode": {
    "name": "ipython",
    "version": 3
   },
   "file_extension": ".py",
   "mimetype": "text/x-python",
   "name": "python",
   "nbconvert_exporter": "python",
   "pygments_lexer": "ipython3",
   "version": "3.12.6"
  }
 },
 "nbformat": 4,
 "nbformat_minor": 2
}
