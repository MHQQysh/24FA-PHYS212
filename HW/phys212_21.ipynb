{
 "cells": [
  {
   "cell_type": "code",
   "execution_count": 2,
   "metadata": {},
   "outputs": [
    {
     "name": "stdout",
     "output_type": "stream",
     "text": [
      "49.48016477265128\n",
      "0.0008417417643196232\n"
     ]
    }
   ],
   "source": [
    "l=340e-3\n",
    "c=25e-6\n",
    "r=280\n",
    "em=120\n",
    "from numpy import sqrt,cos,sin,tan,atan,acos,asin,degrees,radians,pi\n",
    "import sympy as s\n",
    "\n",
    "vc=-10.1\n",
    "vl=60.6\n",
    "w=sqrt(vl/-vc/l/c)\n",
    "# print(w)\n",
    "# vl/vc=w**2*l*c\n",
    "xl=w*l\n",
    "xc=1/c/w\n",
    "# print(xl,xc) #正\n",
    "\n",
    "z=sqrt((xl-xc)**2+r**2)\n",
    "fai=degrees(atan((xl-xc)/r))\n",
    "im=em/z\n",
    "# print(im*xl,im*xc)\n",
    "# print(im*xc*cos(radians(fai)))\n",
    "alpha=acos(vc/-xc/im)\n",
    "print(degrees(alpha))\n",
    "\n",
    "\n",
    "\n",
    "# cos(radians(fai))-radians(fai)\n",
    "t=(-alpha+pi/2)/w\n",
    "print(t)\n"
   ]
  },
  {
   "cell_type": "code",
   "execution_count": 5,
   "metadata": {},
   "outputs": [
    {
     "ename": "TypeError",
     "evalue": "'float' object is not callable",
     "output_type": "error",
     "traceback": [
      "\u001b[1;31m---------------------------------------------------------------------------\u001b[0m",
      "\u001b[1;31mTypeError\u001b[0m                                 Traceback (most recent call last)",
      "Cell \u001b[1;32mIn[5], line 5\u001b[0m\n\u001b[0;32m      3\u001b[0m v\u001b[38;5;241m=\u001b[39m\u001b[38;5;241m0.87\u001b[39m\u001b[38;5;241m*\u001b[39mc\n\u001b[0;32m      4\u001b[0m z\u001b[38;5;241m=\u001b[39mv\u001b[38;5;241m/\u001b[39ml\n\u001b[1;32m----> 5\u001b[0m \u001b[38;5;28;43mprint\u001b[39;49m\u001b[43m(\u001b[49m\u001b[43mz\u001b[49m\u001b[43m)\u001b[49m\n",
      "\u001b[1;31mTypeError\u001b[0m: 'float' object is not callable"
     ]
    }
   ],
   "source": [
    "l=691*10**(-9)\n",
    "c=3*10**8\n",
    "v=0.87*c\n",
    "z=v/l\n",
    "print(z)"
   ]
  },
  {
   "cell_type": "code",
   "execution_count": 6,
   "metadata": {},
   "outputs": [
    {
     "ename": "TypeError",
     "evalue": "'float' object is not callable",
     "output_type": "error",
     "traceback": [
      "\u001b[1;31m---------------------------------------------------------------------------\u001b[0m",
      "\u001b[1;31mTypeError\u001b[0m                                 Traceback (most recent call last)",
      "Cell \u001b[1;32mIn[6], line 5\u001b[0m\n\u001b[0;32m      3\u001b[0m v \u001b[38;5;241m=\u001b[39m \u001b[38;5;241m0.87\u001b[39m \u001b[38;5;241m*\u001b[39m c  \u001b[38;5;66;03m# 介质中的光速\u001b[39;00m\n\u001b[0;32m      4\u001b[0m z \u001b[38;5;241m=\u001b[39m v \u001b[38;5;241m/\u001b[39m l  \u001b[38;5;66;03m# 计算得到的是频率，如果 l 是频率的话\u001b[39;00m\n\u001b[1;32m----> 5\u001b[0m \u001b[38;5;28;43mprint\u001b[39;49m\u001b[43m(\u001b[49m\u001b[43mz\u001b[49m\u001b[43m)\u001b[49m\n",
      "\u001b[1;31mTypeError\u001b[0m: 'float' object is not callable"
     ]
    }
   ],
   "source": [
    "l = 691 * 10**(-9)  # 光在介质中的速度，单位可能是米/秒\n",
    "c = 3 * 10**8  # 真空中的光速，单位是米/秒\n",
    "v = 0.87 * c  # 介质中的光速\n",
    "z = v / l  # 计算得到的是频率，如果 l 是频率的话\n",
    "print(z)"
   ]
  },
  {
   "cell_type": "code",
   "execution_count": null,
   "metadata": {},
   "outputs": [
    {
     "name": "stdout",
     "output_type": "stream",
     "text": [
      "2.2015932339331683\n",
      "28.8837695937047\n",
      "21.8902255826569\n",
      "-100.38053713646156 这里如果是正的，就是加，如果是负的就是减\n",
      "498.549884677743\n"
     ]
    }
   ],
   "source": [
    "# 2\n",
    "em=120\n",
    "w=374\n",
    "l=203e-3\n",
    "xl=w*l\n",
    "p=70\n",
    "fai0=58\n",
    "\n",
    "import sympy as s\n",
    "r=s.S('r')\n",
    "c=s.S('c')\n",
    "xc=1/c/w\n",
    "\n",
    "print(p/cos(radians(fai0))/em*2)\n",
    "\n",
    "# fai=degrees(atan())\n",
    "q1=tan(radians(fai0))+(xl-xc)/r  #为什么这里需要改成加号，但是确实改了就对了\n",
    "q2=em**2/2/(r**2+(xl-xc)**2)*r-p\n",
    "# print(s.solve([q1,q2],[r,c]))\n",
    "\n",
    "ans=s.solve([q1,q2],[r,c])\n",
    "r=ans[0][0]\n",
    "print(r)\n",
    "c=ans[0][1]\n",
    "print(c*1000000)\n",
    "\n",
    "print(w-1/sqrt(c*l),'这里如果是负的，就是加，如果是正的就是减')\n",
    "\n",
    "im=em/r\n",
    "# print(im)\n",
    "w2=1/sqrt(l*c)\n",
    "xc2=1/c/w2\n",
    "xl2=w2*l\n",
    "# print(xl,xc)\n",
    "from math import sqrt\n",
    "z=sqrt(r**2+(xl2-xc2)**2)\n",
    "p=r/z*em**2/z\n",
    "print(p)\n",
    "# print(z)\n",
    "\n",
    "# print(im**sqrt(2))\n",
    "\n"
   ]
  },
  {
   "cell_type": "code",
   "execution_count": null,
   "metadata": {},
   "outputs": [
    {
     "name": "stdout",
     "output_type": "stream",
     "text": [
      "464.09742333110563\n",
      "0.22285958268359693\n",
      "0.551419844868895\n",
      "2.5393864013267\n",
      "24.489795918367346\n",
      "c*l定值，Q/l定值\n"
     ]
    }
   ],
   "source": [
    "# 3\n",
    "em=24\n",
    "w=134\n",
    "im=0.98\n",
    "c=120e-6\n",
    "r=em/im\n",
    "xc=1/w/c\n",
    "xl=xc\n",
    "l=xl/w\n",
    "print(l*1000)\n",
    "uc=1/2*c*(xc*im)**2\n",
    "print(uc)\n",
    "\n",
    "pr=im**2*1/2*r\n",
    "t=2*pi/w\n",
    "ur=pr*t\n",
    "print(ur)\n",
    "\n",
    "q=w*l/r\n",
    "print(q)\n",
    "\n",
    "print(r)\n",
    "print('c*l定值,Q/l定值')\n"
   ]
  },
  {
   "cell_type": "code",
   "execution_count": null,
   "metadata": {},
   "outputs": [
    {
     "name": "stdout",
     "output_type": "stream",
     "text": [
      "12491422.081867965\n",
      "125.75\n",
      "4963.889603929564\n",
      "-3510.0\n",
      "4.1916666666666664e-16\n"
     ]
    }
   ],
   "source": [
    "# 4\n",
    "\n",
    "\n",
    "lamda=503e-9\n",
    "k=2*pi/lamda\n",
    "print(k)\n",
    "\n",
    "z=pi/2/k\n",
    "print(z*10**9)\n",
    "\n",
    "c=3e8\n",
    "b1=11.7e-6\n",
    "em=c*b1*sqrt(2)\n",
    "print(em)\n",
    "\n",
    "ey=-em/sqrt(2)\n",
    "print(ey)\n",
    "\n",
    "# print('E = \\frac{E_{\\text{max}}}{\\sqrt{2}} sin(kz - \\omega t)(\\hat{i} + \\hat{j})')\n",
    "\n",
    "\n",
    "w=2*pi*c/lamda\n",
    "t=pi/2/w\n",
    "print(t)\n",
    "\n",
    "print('=') #其实没有很会"
   ]
  }
 ],
 "metadata": {
  "kernelspec": {
   "display_name": "Python 3",
   "language": "python",
   "name": "python3"
  },
  "language_info": {
   "codemirror_mode": {
    "name": "ipython",
    "version": 3
   },
   "file_extension": ".py",
   "mimetype": "text/x-python",
   "name": "python",
   "nbconvert_exporter": "python",
   "pygments_lexer": "ipython3",
   "version": "3.12.6"
  }
 },
 "nbformat": 4,
 "nbformat_minor": 2
}
