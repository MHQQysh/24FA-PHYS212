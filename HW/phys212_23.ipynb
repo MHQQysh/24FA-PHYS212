{
 "cells": [
  {
   "cell_type": "code",
   "execution_count": null,
   "metadata": {},
   "outputs": [
    {
     "name": "stdout",
     "output_type": "stream",
     "text": [
      "6.137164119322155e-07\n"
     ]
    }
   ],
   "source": [
    "# 1\n",
    "from numpy import sqrt\n",
    "lamda=0.3\n",
    "i=45\n",
    "c=3e8\n",
    "e=8.85e-12\n",
    "E=sqrt(2*i/c/e)\n",
    "b=E/c\n",
    "t=lamda/c\n",
    "\n",
    "# 这里方向需要学习一下\n",
    "print(-b)"
   ]
  },
  {
   "cell_type": "code",
   "execution_count": 15,
   "metadata": {},
   "outputs": [
    {
     "name": "stdout",
     "output_type": "stream",
     "text": [
      "9.09090909090909\n",
      "4364.421750000001\n",
      "-8720.895106720405\n",
      "-1410.0\n",
      "SIIz > 0 and magnitude(SIIz) = magnitude(Sz)\n"
     ]
    }
   ],
   "source": [
    "# 2\n",
    "from numpy import sqrt,pi\n",
    "bx=3.8e-6\n",
    "by=4.7e-6\n",
    "b=sqrt(bx**2+by**2)\n",
    "lamda=3.3e-2\n",
    "t=lamda/c\n",
    "f=1/t/1e9\n",
    "print(f)\n",
    "\n",
    "E=b*c\n",
    "i=1/2*c*e*E**2\n",
    "print(i)\n",
    "\n",
    "\n",
    "\n",
    "miu=pi*4e-7\n",
    "# 不知道为什么是负数\n",
    "\n",
    "s=-1/miu*E*b\n",
    "print(s)\n",
    "\n",
    "\n",
    "\n",
    "ex=-E*by/sqrt(bx**2+by**2)\n",
    "print(ex)\n",
    "\n",
    "print('SIIz > 0 and magnitude(SIIz) = magnitude(Sz)')\n"
   ]
  },
  {
   "cell_type": "code",
   "execution_count": null,
   "metadata": {},
   "outputs": [],
   "source": [
    "# 3\n",
    "\n",
    "\n"
   ]
  },
  {
   "cell_type": "code",
   "execution_count": null,
   "metadata": {},
   "outputs": [
    {
     "name": "stdout",
     "output_type": "stream",
     "text": [
      "0.2418182954270866\n",
      "76.0061174892238\n"
     ]
    }
   ],
   "source": [
    "# 4\n",
    "from numpy import cos,radians,sin,sqrt,acos,degrees\n",
    "\n",
    "o1=60\n",
    "o2=130\n",
    "\n",
    "# 写代码尽量不要一行搞定，一点点写更容易改\n",
    "\n",
    "# cos(radians(o2-o3))**2*cos(radians(o2-o1))**2=0.02 求o3\n",
    "# o3=degrees(acos(sqrt(0.02/cos(radians(o2-o1))**2)))\n",
    "\n",
    "wucos_wu2_rad=sqrt(0.02/cos(radians(70)))\n",
    "print(wucos_wu2_rad)\n",
    "o3=degrees(acos(wucos_wu2_rad))\n",
    "print(o3)"
   ]
  },
  {
   "cell_type": "code",
   "execution_count": null,
   "metadata": {},
   "outputs": [
    {
     "name": "stdout",
     "output_type": "stream",
     "text": [
      "167.96771066502868\n",
      "63.66632185070421\n",
      "17.143007409585778\n",
      "=\n",
      "47.483150990542555\n"
     ]
    }
   ],
   "source": [
    "# 5\n",
    "i0=341\n",
    "o2=83\n",
    "o3=31\n",
    "from numpy import cos,radians,sin\n",
    "i1=1/2*i0\n",
    "i2=cos(radians(90-o2))**2*i1\n",
    "print(i2)\n",
    "i3=cos(radians(o2-o3))**2*i2\n",
    "print(i3)\n",
    "\n",
    "# print(i1)\n",
    "i4=cos(radians(90-o3))**2*i1\n",
    "# print(i4)\n",
    "i5=cos(radians(o2-o3))**2*i4\n",
    "print(i5)\n",
    "\n",
    "\n",
    "i0=341\n",
    "o2=83\n",
    "o3=31\n",
    "i1=1/2*i0\n",
    "print('=')\n",
    "# print(i1)\n",
    "i2=cos(radians(o3-o2))**2*i1\n",
    "i3=cos(radians(o3))**2*i2\n",
    "print(i3)\n"
   ]
  },
  {
   "cell_type": "code",
   "execution_count": 1,
   "metadata": {},
   "outputs": [
    {
     "name": "stdout",
     "output_type": "stream",
     "text": [
      "336.5\n",
      "12.251316469138033\n",
      "0.1324434312407917\n",
      "23.610539296510996\n"
     ]
    }
   ],
   "source": [
    "# 6\n",
    "i0=673\n",
    "o1=79\n",
    "\n",
    "\n",
    "i1=1/2*i0\n",
    "print(i1)\n",
    "\n",
    "\n",
    "\n",
    "\n",
    "\n",
    "\n",
    "from numpy import cos,radians,sin,sqrt\n",
    "i2=i1*cos(radians(79))**2\n",
    "print(i2)\n",
    "# 我不理解这个四分之一片有什么用处\n",
    "\n",
    "\n",
    "# print(sin(radians(79)))\n",
    "# print(sin(radians(79))/2)\n",
    "# print(sin(radians(79))/sqrt(2))\n",
    "# print(sin(radians(79))/sqrt(2)/sqrt(2))\n",
    "# print(sin(radians(79))/sqrt(2)/2)\n",
    "# print(sin(radians(79))*sin(radians(79)))\n",
    "\n",
    "c1=cos(radians(o1))\n",
    "s1=sin(radians(o1))\n",
    "\n",
    "print(s1*(c1)/sqrt(2))\n",
    "\n",
    "# 0.206\n",
    "# \n",
    "\n",
    "\n",
    "\n",
    "\n",
    "\n",
    "\n",
    "\n",
    "\n",
    "\n",
    "\n",
    "\n",
    "i0=673\n",
    "o1=79\n",
    "i1=i0*sin(radians(79))**2\n",
    "i2=i1*cos(radians(79))**2\n",
    "print(i2)\n",
    "\n"
   ]
  },
  {
   "cell_type": "code",
   "execution_count": null,
   "metadata": {},
   "outputs": [],
   "source": []
  }
 ],
 "metadata": {
  "kernelspec": {
   "display_name": "Python 3",
   "language": "python",
   "name": "python3"
  },
  "language_info": {
   "codemirror_mode": {
    "name": "ipython",
    "version": 3
   },
   "file_extension": ".py",
   "mimetype": "text/x-python",
   "name": "python",
   "nbconvert_exporter": "python",
   "pygments_lexer": "ipython3",
   "version": "3.12.6"
  }
 },
 "nbformat": 4,
 "nbformat_minor": 2
}
