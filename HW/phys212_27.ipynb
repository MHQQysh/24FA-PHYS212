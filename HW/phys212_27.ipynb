{
 "cells": [
  {
   "cell_type": "code",
   "execution_count": 14,
   "metadata": {},
   "outputs": [
    {
     "name": "stdout",
     "output_type": "stream",
     "text": [
      "53.0028050490884\n",
      "-3.909128205128205\n",
      "72.9555984555984\n",
      "-0.129393771003678\n",
      "-112.222717149220\n",
      "14.7136451373422\n"
     ]
    }
   ],
   "source": [
    "# 3\n",
    "from sympy import S\n",
    "import sympy as s\n",
    "\n",
    "\n",
    "s1=117.0\n",
    "y1=4.72\n",
    "s2=96.9\n",
    "f=S(\"f\")\n",
    "\n",
    "q1=1/f-1/s1-1/s2\n",
    "f=s.solve([q1],[f])[f]\n",
    "print(f)\n",
    "\n",
    "\n",
    "y2=-y1/s1*s2\n",
    "print(y2)\n",
    "\n",
    "from sympy import S\n",
    "import sympy as s\n",
    "s2=193.8\n",
    "s1=S('s1')\n",
    "q1=1/f-1/s1-1/s2\n",
    "s1=s.solve([q1],[s1])[s1]\n",
    "print(s1)\n",
    "\n",
    "y2=-2*y1/s1\n",
    "print(y2)\n",
    "\n",
    "f=53.0028050490884\n",
    "s1=36\n",
    "s2=S('s2')\n",
    "q1=1/f-1/s1-1/s2\n",
    "s2=s.solve([q1],[s2])[s2]\n",
    "print(s2)\n",
    "y1=4.72\n",
    "y2=y1*(f-s2)/(f)\n",
    "print(y2)"
   ]
  },
  {
   "cell_type": "code",
   "execution_count": null,
   "metadata": {},
   "outputs": [],
   "source": [
    "from sympy import S\n",
    "import sympy as s\n",
    "\n",
    "s2=S('s2')\n",
    "q1=1/f-1/s1-1/s2\n",
    "f=s.solve([q1],[f])[f]"
   ]
  },
  {
   "cell_type": "code",
   "execution_count": 4,
   "metadata": {},
   "outputs": [
    {
     "ename": "TypeError",
     "evalue": "unsupported operand type(s) for /: 'int' and 'module'",
     "output_type": "error",
     "traceback": [
      "\u001b[1;31m---------------------------------------------------------------------------\u001b[0m",
      "\u001b[1;31mTypeError\u001b[0m                                 Traceback (most recent call last)",
      "Cell \u001b[1;32mIn[4], line 16\u001b[0m\n\u001b[0;32m     13\u001b[0m \u001b[38;5;28;01mimport\u001b[39;00m \u001b[38;5;21;01msympy\u001b[39;00m \u001b[38;5;28;01mas\u001b[39;00m \u001b[38;5;21;01ms\u001b[39;00m\n\u001b[0;32m     15\u001b[0m f\u001b[38;5;241m=\u001b[39mS(\u001b[38;5;124m\"\u001b[39m\u001b[38;5;124mf\u001b[39m\u001b[38;5;124m\"\u001b[39m)\n\u001b[1;32m---> 16\u001b[0m q1\u001b[38;5;241m=\u001b[39m\u001b[38;5;241m1\u001b[39m\u001b[38;5;241m/\u001b[39mf\u001b[38;5;241m-\u001b[39m\u001b[38;5;241;43m1\u001b[39;49m\u001b[38;5;241;43m/\u001b[39;49m\u001b[43ms\u001b[49m\u001b[38;5;241m-\u001b[39m\u001b[38;5;241m1\u001b[39m\u001b[38;5;241m/\u001b[39ms1\n\u001b[0;32m     17\u001b[0m f\u001b[38;5;241m=\u001b[39ms\u001b[38;5;241m.\u001b[39msolve([q1],[f])[f]\n\u001b[0;32m     18\u001b[0m \u001b[38;5;28mprint\u001b[39m(f)\n",
      "\u001b[1;31mTypeError\u001b[0m: unsupported operand type(s) for /: 'int' and 'module'"
     ]
    }
   ],
   "source": [
    "# 4\n",
    "s=115.0\n",
    "y1=3.82\n",
    "s1=81.5\n",
    "\n",
    "\n",
    "\n",
    "\n",
    "\n",
    "\n",
    "\n",
    "from sympy import S\n",
    "import sympy as s\n",
    "\n",
    "f=S(\"f\")\n",
    "q1=1/f-1/s-1/s1\n",
    "f=s.solve([q1],[f])[f\n",
    "print(f)\n",
    "\n",
    "# y2=y1*v/u\n",
    "# print(y2)\n",
    "\n",
    "\n",
    "# r=(n-1)/(1/f)\n",
    "# print(r)\n",
    "# u=-13.7\n",
    "\n",
    "\n",
    "# x2=1/(1/f+1/u)\n",
    "# print(x2)\n",
    "# print('虚倒立')"
   ]
  },
  {
   "cell_type": "code",
   "execution_count": 26,
   "metadata": {},
   "outputs": [
    {
     "name": "stdout",
     "output_type": "stream",
     "text": [
      "[53.0028050490884]\n",
      "[72.9555984555984]\n",
      "[-64.0375715788245]\n"
     ]
    },
    {
     "data": {
      "text/plain": [
       "10.422666822484539"
      ]
     },
     "execution_count": 26,
     "metadata": {},
     "output_type": "execute_result"
    }
   ],
   "source": [
    "from sympy import symbols, solve\n",
    "\n",
    "# 定义符号变量\n",
    "f = symbols('f')\n",
    "\n",
    "# 给定的数值\n",
    "s = 117.0\n",
    "s1 = 96.9\n",
    "y=4.72\n",
    "q1 = 1/f - 1/s - 1/s1\n",
    "\n",
    "\n",
    "f_solution = solve(q1, f)\n",
    "\n",
    "# 打印解\n",
    "print(f_solution)\n",
    "f=53.0028050490884\n",
    "\n",
    "s1=193.8\n",
    "s = symbols('s')\n",
    "q1 = 1/f - 1/s - 1/s1\n",
    "\n",
    "\n",
    "f_solution = solve(q1, s)\n",
    "\n",
    "print(f_solution)\n",
    "\n",
    "-4.72/72.9555984555984*193.8\n",
    "\n",
    "\n",
    "# print(y/f_solution*s1)\n",
    "# 3.82/69*177\n",
    "# y=3.82/115*88.5\n",
    "# print(y)\n",
    "\n",
    "\n",
    "f=53.0028050490884\n",
    "\n",
    "s=29\n",
    "s1 = symbols('s1')\n",
    "q1 = 1/f - 1/s - 1/s1\n",
    "s1_solution = solve(q1, s1)\n",
    "print(s1_solution)\n",
    "\n",
    "\n",
    "-4.72/29*-64.0375715788245"
   ]
  },
  {
   "cell_type": "code",
   "execution_count": 55,
   "metadata": {},
   "outputs": [
    {
     "name": "stdout",
     "output_type": "stream",
     "text": [
      "[-47.1509433962265]\n",
      "10.0075471698113\n",
      "7.60377358490568\n"
     ]
    }
   ],
   "source": [
    "# 44444\n",
    "x2=24.5\n",
    "y2=5.2\n",
    "f=51\n",
    "x1=S('x1')\n",
    "\n",
    "q1 = 1/f - 1/x1 - 1/x2\n",
    "solution = solve(q1, x1)\n",
    "print(solution)\n",
    "x1=solution[0]\n",
    "\n",
    "y1=-y2/x2*x1\n",
    "print(y1)\n",
    "\n",
    "x2=12.25\n",
    "x1=S('x1')\n",
    "\n",
    "q1 = 1/f - 1/x1 - 1/x2\n",
    "x1 = solve(q1, x1)[0]\n",
    "# print(solution)\n",
    "\n",
    "print(-y1/x1*x2)\n"
   ]
  },
  {
   "cell_type": "code",
   "execution_count": 48,
   "metadata": {},
   "outputs": [
    {
     "name": "stdout",
     "output_type": "stream",
     "text": [
      "40.6206896551723\n",
      "-16.3793103448276\n",
      "179.006000559231\n",
      "54.4552148382882\n"
     ]
    }
   ],
   "source": [
    "# 6666666666\n",
    "f1=9.5\n",
    "s=72.62\n",
    "\n",
    "f2=24.6\n",
    "x11=12.4\n",
    "y=5\n",
    "x12=S('x12')\n",
    "\n",
    "q1 = 1/f1 - 1/x11 - 1/x12\n",
    "solution = solve(q1, x12)\n",
    "x12=solution[0]\n",
    "print(x12)\n",
    "\n",
    "print(-y/x11*x12)\n",
    "x21=s-x12\n",
    "x22=S('x22')\n",
    "\n",
    "q1 = 1/f2 - 1/x21 - 1/x22\n",
    "solution = solve(q1, x22)\n",
    "x22=solution[0]\n",
    "print(x22+s)\n",
    "\n",
    "print(y/x11*x12/x21*x22)\n",
    "\n"
   ]
  },
  {
   "cell_type": "code",
   "execution_count": 23,
   "metadata": {},
   "outputs": [
    {
     "name": "stdout",
     "output_type": "stream",
     "text": [
      "-9.20613496932513\n",
      "-4.12515337423312\n",
      "35.0061349693251\n",
      "[16.7722417979662]\n",
      "-3.79447599018576\n"
     ]
    }
   ],
   "source": [
    "# 777777777777\n",
    "from sympy import solve,S\n",
    "x3=58\n",
    "f1=-12.3\n",
    "x11=36.6\n",
    "x12=S('x12')\n",
    "y=16.4\n",
    "q1 = 1/f1 - 1/x11 - 1/x12\n",
    "solution = solve(q1, x12)\n",
    "x12=solution[0]\n",
    "print(x12)\n",
    "\n",
    "\n",
    "\n",
    "print(y/x11*x12)\n",
    "\n",
    "\n",
    "x21=-x12+25.8\n",
    "print(x21)\n",
    "x22=58-25.8\n",
    "\n",
    "\n",
    "f2=S('f2')\n",
    "# y=16.4\n",
    "q1 = 1/f2 - 1/x21 - 1/x22\n",
    "solution = solve(q1, f2)\n",
    "print(solution)\n",
    "\n",
    "y=16.4\n",
    "print(y/x11*x12/x21*x22)\n",
    "\n",
    "\n",
    "\n"
   ]
  },
  {
   "cell_type": "code",
   "execution_count": 25,
   "metadata": {},
   "outputs": [
    {
     "name": "stdout",
     "output_type": "stream",
     "text": [
      "[-79.0169491525421]\n",
      "-15.3644067796610\n"
     ]
    }
   ],
   "source": [
    "# 888888888888888888888888888888888888888888888\n",
    "y2=4.9\n",
    "f=37\n",
    "x2=25.2\n",
    "\n",
    "x1 = S('x1')\n",
    "\n",
    "q1 = 1/f - 1/x1 - 1/x2\n",
    "solution = solve(q1, x1)\n",
    "x1=solve(q1, x1)[0]\n",
    "print(solution)\n",
    "\n",
    "print(y2/x2*x1)\n",
    "\n",
    "\n"
   ]
  },
  {
   "cell_type": "code",
   "execution_count": 73,
   "metadata": {},
   "outputs": [
    {
     "name": "stdout",
     "output_type": "stream",
     "text": [
      "[-36.1432624113476]\n",
      "-4.79007092198583\n",
      "[62.4067092919274]\n",
      "11.8367092919274\n"
     ]
    }
   ],
   "source": [
    "# 888888888888888888888888888888888888888888888\n",
    "y2=2.2\n",
    "f=30.7\n",
    "x2=16.6\n",
    "\n",
    "x1 = symbols('x1')\n",
    "\n",
    "q1 = 1/f - 1/x1 - 1/x2\n",
    "solution = solve(q1, x1)\n",
    "x1=solve(q1, x1)[0]\n",
    "print(solution)\n",
    "\n",
    "print(y2/x2*x1)\n",
    "\n",
    "f=19.54\n",
    "x1=79.0169491525421-50.57\n",
    "x2 = symbols('x')\n",
    "\n",
    "q1 = 1/f - 1/x1 - 1/x2\n",
    "solution = solve(q1, x2)\n",
    "print(solution)\n",
    "print(solution[0]-50.57)\n",
    "\n",
    "\n",
    "\n",
    "\n"
   ]
  },
  {
   "cell_type": "code",
   "execution_count": null,
   "metadata": {},
   "outputs": [],
   "source": []
  }
 ],
 "metadata": {
  "kernelspec": {
   "display_name": "Python 3",
   "language": "python",
   "name": "python3"
  },
  "language_info": {
   "codemirror_mode": {
    "name": "ipython",
    "version": 3
   },
   "file_extension": ".py",
   "mimetype": "text/x-python",
   "name": "python",
   "nbconvert_exporter": "python",
   "pygments_lexer": "ipython3",
   "version": "3.12.6"
  }
 },
 "nbformat": 4,
 "nbformat_minor": 2
}
