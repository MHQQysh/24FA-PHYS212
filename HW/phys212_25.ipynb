{
 "cells": [
  {
   "cell_type": "code",
   "execution_count": 53,
   "metadata": {},
   "outputs": [
    {
     "name": "stdout",
     "output_type": "stream",
     "text": [
      "0.9659258262890683\n",
      "53.60428627831538\n",
      "8.604286278315378\n",
      "55.325143533978455\n"
     ]
    }
   ],
   "source": [
    "\n",
    "# 1\n",
    "from math import sin,asin,pi,degrees,radians\n",
    "n=1.2\n",
    "fai1=75\n",
    "print(sin(radians(fai1)))\n",
    "\n",
    "# /n位置\n",
    "fai2=degrees(asin(sin(radians(fai1))/n))\n",
    "print(fai2)\n",
    "# fai3=135-fai2\n",
    "\n",
    "\n",
    "# 反射一次\n",
    "# fai4=degrees(asin(sin(radians(fai3)*n)))\n",
    "# print(45-fai4)\n",
    "# print(fai4-45)\n",
    "\n",
    "fai3=fai2-45\n",
    "print(fai3)\n",
    "fai4=degrees(asin(sin(radians(fai3)*n)))\n",
    "print(fai4+45)"
   ]
  },
  {
   "cell_type": "code",
   "execution_count": 31,
   "metadata": {},
   "outputs": [
    {
     "name": "stdout",
     "output_type": "stream",
     "text": [
      "50.6369385704529\n",
      "1.5182198440011132\n",
      "15.655014112427054\n",
      "48.80177600051371\n",
      "42.851799912704486\n",
      "dviolet < d\n",
      "35.904068583317176\n"
     ]
    }
   ],
   "source": [
    "# 2\n",
    "# 这里必须配套sympy的pi,sin\n",
    "# from numpy import radians,cos,sin,pi\n",
    "\n",
    "fai1=45.7\n",
    "h=21\n",
    "d=53.6\n",
    "\n",
    "import sympy as s\n",
    "from sympy import S,sin,pi\n",
    "fai2 = s.symbols('fai2')\n",
    "q1 = sin((150 - fai2) * pi / 180) / d - sin(fai2 * pi / 180) / (2 * h)\n",
    "fai2=s.solve(q1,fai2)[0]\n",
    "print(fai2)\n",
    "\n",
    "n=sin((90-30-fai1)*pi/180)/sin((60-fai2)*pi/180)\n",
    "# print(n)\n",
    "# n=float(n)\n",
    "print(float(n))\n",
    "# sinfai2=sin(radians(90-fai1))/n\n",
    "# 第二题 这里需要画出来具体的值，然后算式列出来1，否则非常容易错\n",
    "from math import sin,asin,pi,degrees,radians\n",
    "s=(90-fai2)/180*pi\n",
    "fai3=90-degrees(asin(sin(s)*n))\n",
    "print(fai3)\n",
    "\n",
    "fai2m=90-degrees(asin(1/n))\n",
    "print(fai2m)\n",
    "\n",
    "fai1m=60-degrees(asin(n*sin(radians(60-fai2m))))\n",
    "print(fai1m)\n",
    "\n",
    "\n",
    "print('dviolet < d')\n",
    "fai1=60\n",
    "n=1.62\n",
    "fai2=60-degrees(asin(n*sin(radians(60-fai1))))\n",
    "fai3=90-degrees(asin(n*sin(radians(90-fai2))))\n",
    "print(fai3)"
   ]
  },
  {
   "cell_type": "code",
   "execution_count": null,
   "metadata": {},
   "outputs": [
    {
     "name": "stdout",
     "output_type": "stream",
     "text": [
      "21.3766287487074\n",
      "-7.556614420062696\n",
      "8.12311892450879\n",
      "-38.1495345735723\n"
     ]
    }
   ],
   "source": [
    "# 4\n",
    "u=-31.9\n",
    "y1=3.72\n",
    "v=64.8\n",
    "n=1.38\n",
    "from sympy import S\n",
    "import sympy as s\n",
    "f=S(\"f\")\n",
    "q1=1/f+1/u-1/v\n",
    "f=s.solve([q1],[f])[f]\n",
    "print(f)\n",
    "\n",
    "y2=y1*v/u\n",
    "print(y2)\n",
    "\n",
    "\n",
    "r=(n-1)/(1/f)\n",
    "print(r)\n",
    "u=-13.7\n",
    "\n",
    "\n",
    "x2=1/(1/f+1/u)\n",
    "print(x2)\n",
    "print('虚倒立')"
   ]
  }
 ],
 "metadata": {
  "kernelspec": {
   "display_name": "Python 3",
   "language": "python",
   "name": "python3"
  },
  "language_info": {
   "codemirror_mode": {
    "name": "ipython",
    "version": 3
   },
   "file_extension": ".py",
   "mimetype": "text/x-python",
   "name": "python",
   "nbconvert_exporter": "python",
   "pygments_lexer": "ipython3",
   "version": "3.12.6"
  }
 },
 "nbformat": 4,
 "nbformat_minor": 2
}
