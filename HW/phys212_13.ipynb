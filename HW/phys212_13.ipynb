{
 "cells": [
  {
   "cell_type": "code",
   "execution_count": 1,
   "metadata": {},
   "outputs": [
    {
     "name": "stdout",
     "output_type": "stream",
     "text": [
      "33.448800000000006\n",
      "1.30140000000000\n"
     ]
    }
   ],
   "source": [
    "# 1\n",
    "print(3.62*2.2*4.2)\n",
    "from sympy import pi,sqrt\n",
    "\n",
    "miu=4*pi*10**(-7)\n",
    "i1=4.82\n",
    "f=5.2*10**(-6)\n",
    "\n",
    "i2=7.02\n",
    "# i2=f/miu/i1*2*pi*l\n",
    "d=miu*i1*i2/f/2/pi\n",
    "\n",
    "print(d)\n",
    "\n",
    "\n",
    "# 5错误因为不会，4错误因为没看懂位置,1还有一个问题是寄错方向了，应该左手\n",
    "# 4错误因为看错题干是求磁场力\n"
   ]
  },
  {
   "cell_type": "code",
   "execution_count": 68,
   "metadata": {},
   "outputs": [
    {
     "name": "stdout",
     "output_type": "stream",
     "text": [
      "-0.0018013328398716324\n"
     ]
    }
   ],
   "source": [
    "# 2\n",
    "i=0.25\n",
    "b=1.3\n",
    "d=8e-2\n",
    "\n",
    "\n",
    "from math import pi,sqrt,sin,radians,tan,cos\n",
    "\n",
    "s=sqrt(3)/4*(d)**2\n",
    "# 磁矩大小\n",
    "\n",
    "m=i*s*2*b\n",
    "print(-m)\n",
    "\n",
    "\n",
    "# 正负怎么判断,磁矩？\n"
   ]
  },
  {
   "cell_type": "code",
   "execution_count": 67,
   "metadata": {},
   "outputs": [
    {
     "name": "stdout",
     "output_type": "stream",
     "text": [
      "0.7486238532110091\n"
     ]
    }
   ],
   "source": [
    "# 3\n",
    "b=1.8\n",
    "i=0.85\n",
    "n=12\n",
    "d=0.2\n",
    "\n",
    "s=d**2\n",
    "m=n*i*s\n",
    "g=9.81\n",
    "# b点\n",
    "taoi=m*b*sin(radians(30))\n",
    "taog=taoi\n",
    "\n",
    "M=2*taog*2/g/d\n",
    "print(M)\n",
    "\n",
    "\n",
    "\n"
   ]
  },
  {
   "cell_type": "code",
   "execution_count": null,
   "metadata": {},
   "outputs": [
    {
     "name": "stdout",
     "output_type": "stream",
     "text": [
      "miux -0.0341309551785994\n",
      "miuy 0.05680344841676815\n",
      "taoz -0.028670002350023493\n",
      "0.07136639999999998\n"
     ]
    }
   ],
   "source": [
    "# 4\n",
    "h=0.24\n",
    "w=0.78\n",
    "b=0.84\n",
    "i=0.354\n",
    "theta=31\n",
    "\n",
    "miu=i*h*w\n",
    "print(\"miux\",-i*h*w*sin(radians(theta)))\n",
    "print(\"miuy\",i*h*w*cos(radians(theta)))\n",
    "print(\"taoz\",-b*sin(radians(theta))*miu)\n",
    "print(b*i*h)\n",
    "\n",
    "\n",
    "# 第四题\n",
    "\n",
    "# 这里有一个选择错了，但是就是不会\n"
   ]
  },
  {
   "cell_type": "code",
   "execution_count": 44,
   "metadata": {},
   "outputs": [
    {
     "name": "stdout",
     "output_type": "stream",
     "text": [
      "0.46028160000000007\n",
      "0.27329220000000004\n",
      "0.17490700800000003\n",
      "0.17490700800000003\n"
     ]
    }
   ],
   "source": [
    "# 5\n",
    "lab=0.38\n",
    "lbc=0.64\n",
    "lac=sqrt(lab**2+lbc**2)\n",
    "\n",
    "i=0.549\n",
    "b=1.31\n",
    "\n",
    "facx=b*i*lac*lbc/lac\n",
    "fbcx=b*i*lac*lab/lac\n",
    "# 主要是正负问题，\n",
    "print(facx)\n",
    "print(fbcx)\n",
    "# 力首先是垂直的，然后需要去乘一个cos\n",
    "\n",
    "\n",
    "\n",
    "miu=i*lab*lbc/2\n",
    "u=miu*b*2\n",
    "print(u)\n",
    "\n",
    "print(u)"
   ]
  },
  {
   "cell_type": "code",
   "execution_count": 9,
   "metadata": {},
   "outputs": [
    {
     "name": "stdout",
     "output_type": "stream",
     "text": [
      "-3.454545454545454e-06\n",
      "3.3070866141732284e-06\n",
      "-5.4254471409513595e-06\n",
      "-7.68871816898685e-06\n",
      "-1.6010058220688222e-08\n",
      "If I4 is directed along the positive z-axis, then it is possible to make the x-component of the magnetic field equal to zero at the origin.\n"
     ]
    }
   ],
   "source": [
    "from math import sqrt,sin,radians,cos\n",
    "# 6\n",
    "i1=3.1\n",
    "i2=0.7\n",
    "i3=6.3\n",
    "r1=0.22\n",
    "r2=0.22\n",
    "r3=0.381\n",
    "\n",
    "\n",
    "\n",
    "\n",
    "d=sqrt(r2**2+r3**2)\n",
    "\n",
    "\n",
    "\n",
    "print(-i1*2*1e-7/r1-i2*2*1e-7/r2)\n",
    "\n",
    "print(i3*2*1e-7/r3)\n",
    "\n",
    "\n",
    "bi1y=i3*2*1e-7/d*sin(radians(30))+i2*2*1e-7/2/r1\n",
    "\n",
    "print(-i1*bi1y)\n",
    "bi1x=i3*2*1e-7/d*cos(radians(30))\n",
    "print(-i1*bi1x)\n",
    "\n",
    "\n",
    "\n",
    "bi2y=i3*2*1e-7/d*sin(radians(30))-i1*2*1e-7/2/r1\n",
    "print(-i2*bi2y)\n",
    "\n",
    "# 第一次错是因为方向画对了，但是当相加的时候符号没有很清晰地写\n",
    "# 第二次错是因为虽然变到一个方向了，但是整体会变成反方向的，忘记整体加一负号\n",
    "\n",
    "print('If I4 is directed along the positive z-axis, then it is possible to make the x-component of the magnetic field equal to zero at the origin.')\n"
   ]
  },
  {
   "cell_type": "code",
   "execution_count": null,
   "metadata": {},
   "outputs": [
    {
     "name": "stdout",
     "output_type": "stream",
     "text": [
      "2.454666666666667e-08\n",
      "-9.205000000000002e-09\n",
      "0\n",
      "{i0: -2.16975000000000}\n",
      "negative\n"
     ]
    }
   ],
   "source": [
    "# 7\n",
    "\n",
    "h=0.28\n",
    "w=0.6\n",
    "i2=0.2\n",
    "l=0.36\n",
    "i1=0.789\n",
    "\n",
    "b_ab_z=i1*2*1e-7/l\n",
    "f_ad_x=b_ab_z*i2*h\n",
    "print(f_ad_x)\n",
    "\n",
    "\n",
    "b_bc_z=i1*2*1e-7/(l+w)\n",
    "f_bc_x=-b_bc_z*i2*h\n",
    "print(f_bc_x)\n",
    "\n",
    "\n",
    "print(0)\n",
    "\n",
    "# !pip install sympy\n",
    "\n",
    "import sympy as s\n",
    "i0=s.S('i0')\n",
    "b_ab_z_2=i0*2*1e-7/(2*l+w)\n",
    "f_ad_x_2=b_ab_z_2*i2*h\n",
    "\n",
    "b_bc_z_2=i0*2*1e-7/(2*l)\n",
    "f_bc_x_2=-b_bc_z_2*i2*h\n",
    "\n",
    "q1=f_bc_x_2+f_ad_x_2-f_ad_x-f_bc_x\n",
    "\n",
    "\n",
    "# 错误原因是没有定一个完整的方向，整体所有数都有正负，没有都是加，前面有些变号了\n",
    "print(s.solve([q1],[i0]))\n",
    "\n",
    "print('negative')"
   ]
  }
 ],
 "metadata": {
  "kernelspec": {
   "display_name": "Python 3",
   "language": "python",
   "name": "python3"
  },
  "language_info": {
   "codemirror_mode": {
    "name": "ipython",
    "version": 3
   },
   "file_extension": ".py",
   "mimetype": "text/x-python",
   "name": "python",
   "nbconvert_exporter": "python",
   "pygments_lexer": "ipython3",
   "version": "3.12.6"
  }
 },
 "nbformat": 4,
 "nbformat_minor": 2
}
