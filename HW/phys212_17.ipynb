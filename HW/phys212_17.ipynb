{
 "cells": [
  {
   "cell_type": "code",
   "execution_count": null,
   "metadata": {},
   "outputs": [],
   "source": [
    "from math import pi\n",
    "miu=pi*4e-7\n",
    "\n",
    "\n",
    "i1=5.2\n",
    "t1=12\n",
    "i4=-5.2\n",
    "t4=31\n",
    "t3=24\n",
    "w=0.31\n",
    "l=0.63\n",
    "d=0.33\n",
    "\n",
    "\n",
    "\n",
    "\n",
    "fai1=\n"
   ]
  },
  {
   "cell_type": "code",
   "execution_count": null,
   "metadata": {},
   "outputs": [
    {
     "name": "stdout",
     "output_type": "stream",
     "text": [
      "3.442718191124371e-07\n",
      "-2.868931825936976e-08\n",
      "-4.918168844463388e-08\n"
     ]
    }
   ],
   "source": [
    "# 2 time dependent current in a wire\n",
    "from math import pi,sqrt,cos,sin,log,e\n",
    "w=0.31\n",
    "l=0.63\n",
    "d=0.33\n",
    "i1=5.2\n",
    "t1=12\n",
    "t3=24\n",
    "t4=31\n",
    "\n",
    "bb=2e-7\n",
    "fai=bb*i1*w*log((d+l)/d,e)\n",
    "print(fai)\n",
    "\n",
    "e1=-bb*i1/t1*w*log((d+l)/d,e)\n",
    "print(e1)\n",
    "\n",
    "\n",
    "print('0')\n",
    "e2=-bb*i1/(t4-t3)*w*log((d+l)/d,e)\n",
    "print('0')"
   ]
  },
  {
   "cell_type": "code",
   "execution_count": null,
   "metadata": {},
   "outputs": [
    {
     "name": "stdout",
     "output_type": "stream",
     "text": [
      "3.490658503988659\n",
      "0.3496670193634417\n",
      "0.12749842371574638\n",
      "0.24725192054917747\n"
     ]
    }
   ],
   "source": [
    "# 3\n",
    "from math import pi,sqrt,cos,sin\n",
    "h=0.73\n",
    "b=0.26\n",
    "r=1.8\n",
    "t1=1.8\n",
    "B=1.9\n",
    "\n",
    "w=2*pi/t1\n",
    "\n",
    "print(w)\n",
    "fai=1/2*b*h*B\n",
    "\n",
    "i1=fai*w/r\n",
    "print(i1)\n",
    "\n",
    "\n",
    "t2=0.675\n",
    "fai2=-1/2*b*h*B*cos(w*t2) # 为什么是负的\n",
    "print(fai2)\n",
    "\n",
    "i2=w*fai*sin(w*t2)/r\n",
    "print(i2)\n",
    "\n",
    "\n",
    "\n",
    "print('Φo = 0 and Io = Imax')\n",
    "print('Φmax remains the same and Imax doubles')\n",
    "\n"
   ]
  }
 ],
 "metadata": {
  "kernelspec": {
   "display_name": "Python 3",
   "language": "python",
   "name": "python3"
  },
  "language_info": {
   "codemirror_mode": {
    "name": "ipython",
    "version": 3
   },
   "file_extension": ".py",
   "mimetype": "text/x-python",
   "name": "python",
   "nbconvert_exporter": "python",
   "pygments_lexer": "ipython3",
   "version": "3.12.6"
  }
 },
 "nbformat": 4,
 "nbformat_minor": 2
}
