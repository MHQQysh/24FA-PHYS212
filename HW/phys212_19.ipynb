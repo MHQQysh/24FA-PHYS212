{
 "cells": [
  {
   "cell_type": "code",
   "execution_count": 10,
   "metadata": {},
   "outputs": [
    {
     "name": "stdout",
     "output_type": "stream",
     "text": [
      "23.305766102225913\n"
     ]
    }
   ],
   "source": [
    "# 3\n",
    "f=310\n",
    "l=24e-3\n",
    "c=40e-6\n",
    "em=120\n",
    "im=1.4\n",
    "\n",
    "from numpy import atan,degrees,sqrt,pi\n",
    "\n",
    "w=2*pi*f\n",
    "xl=w*l\n",
    "xc=1/w/c\n",
    "# print(xl,xc)\n",
    "R=sqrt((em/im)**2-(xl-xc)**2)\n",
    "# print(R)\n",
    "print(degrees(atan((xl-xc)/R)))\n"
   ]
  },
  {
   "cell_type": "code",
   "execution_count": 36,
   "metadata": {},
   "outputs": [
    {
     "name": "stdout",
     "output_type": "stream",
     "text": [
      "83.66777903544057\n",
      "1.4342438795843926\n",
      "29.24972408487588\n",
      "0.0011926797932665096\n",
      "The current in the circuit is zero when the magnitudes of the voltages across the inductor and the capacitor are maximum\n",
      "-109.11793870762243\n"
     ]
    }
   ],
   "source": [
    "# 4\n",
    "em=120\n",
    "w=889\n",
    "r=73\n",
    "l=52.1e-3\n",
    "c=12.9e-6\n",
    "\n",
    "\n",
    "from numpy import atan,degrees,sqrt,pi,cos,radians,tan\n",
    "xl=l*w\n",
    "xc=1/w/c\n",
    "# print(xl-xc) #是个负数\n",
    "z=sqrt(r**2+(xl-xc)**2)\n",
    "print(z)\n",
    "im=em/z\n",
    "print(im)\n",
    "from numpy import atan,degrees,sqrt,pi\n",
    "# 不懂为什么是正的，其实略微懂\n",
    "fai=-degrees(atan((xl-xc)/r))\n",
    "print(fai)\n",
    "# print(atan((xl-xc)/r))\n",
    "# print(pi/2)\n",
    "# print(pi/2/w)\n",
    "t=(pi/2+atan((xl-xc)/r))/w\n",
    "# 这里要注意求的atan是负的，然后不能直接减法，应该是加号\n",
    "print(t)\n",
    "print('The current in the circuit is zero when the magnitudes of the voltages across the inductor and the capacitor are maximum')\n",
    "vc=-im*xc*cos(radians(fai))\n",
    "print(vc)"
   ]
  },
  {
   "cell_type": "code",
   "execution_count": null,
   "metadata": {},
   "outputs": [
    {
     "name": "stdout",
     "output_type": "stream",
     "text": [
      "0.002015091501371479\n",
      "149.10381277326587\n",
      "251.04744511940802\n",
      "108.49821384577804\n",
      "50.9368260136552\n"
     ]
    }
   ],
   "source": [
    "# 5\n",
    "em=120\n",
    "w=537\n",
    "r=70\n",
    "c=589e-6\n",
    "fai=62\n",
    "xc=1/w/c\n",
    "\n",
    "print(radians(fai)/w)\n",
    "xl=tan(radians(fai))*r+xc\n",
    "z=sqrt(r**2+(xl-xc)**2)\n",
    "print(z)\n",
    "# print(xl,xc)\n",
    "l=xl/w\n",
    "print(l*1000)#unitunitunit\n",
    "im=em/z\n",
    "vl=im*xl\n",
    "print(vl)\n",
    "\n",
    "\n",
    "# print(xl-xc) #正\n",
    "vl0=cos(radians(fai))*vl\n",
    "print(vl0)\n",
    "\n",
    "\n",
    "\n",
    "print(xl-xc) #正\n",
    "\n",
    "print('如果你的上面面xl-xc是一个需要增大c，反之减小。我是增大')"
   ]
  }
 ],
 "metadata": {
  "kernelspec": {
   "display_name": "Python 3",
   "language": "python",
   "name": "python3"
  },
  "language_info": {
   "codemirror_mode": {
    "name": "ipython",
    "version": 3
   },
   "file_extension": ".py",
   "mimetype": "text/x-python",
   "name": "python",
   "nbconvert_exporter": "python",
   "pygments_lexer": "ipython3",
   "version": "3.12.6"
  }
 },
 "nbformat": 4,
 "nbformat_minor": 2
}
