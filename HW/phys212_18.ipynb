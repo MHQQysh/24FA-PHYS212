{
 "cells": [
  {
   "cell_type": "code",
   "execution_count": 2,
   "metadata": {},
   "outputs": [
    {
     "name": "stdout",
     "output_type": "stream",
     "text": [
      "4.248354255291598e-18\n"
     ]
    }
   ],
   "source": [
    "from math import e,sqrt,log\n",
    "h=1e-3\n",
    "r1=10\n",
    "tao=h/r1\n",
    "\n",
    "\n",
    "t=4e-3\n",
    "i2=e**(-t/tao)\n",
    "print(i2)\n",
    "\n",
    "\n",
    "# r2上面电流乘电阻，整体减小了，然后L上面电压相当于增加了。所以a点电势比b点低\n"
   ]
  },
  {
   "cell_type": "code",
   "execution_count": null,
   "metadata": {},
   "outputs": [
    {
     "name": "stdout",
     "output_type": "stream",
     "text": [
      "8.7\n",
      "1.9333333333333331\n",
      "6.666666666666667\n",
      "0\n",
      "18.18181818181818\n"
     ]
    }
   ],
   "source": [
    "# 1\n",
    "\n",
    "# 就是一开始的时候就当作啥也没有，电阻无穷，\n",
    "# 经过足够的时间视作电阻为0\n",
    "l=42.2\n",
    "r=4.5\n",
    "v2=8.7\n",
    "i2=v2/r\n",
    "print(v2)\n",
    "print(i2)\n",
    "\n",
    "v=20\n",
    "\n",
    "print(v/3)\n",
    "print(0)\n",
    "i=0.55\n",
    "print(v/i/2)\n",
    "\n",
    "\n"
   ]
  },
  {
   "cell_type": "code",
   "execution_count": 4,
   "metadata": {},
   "outputs": [
    {
     "name": "stdout",
     "output_type": "stream",
     "text": [
      "4.8500110894822786e-06\n"
     ]
    }
   ],
   "source": [
    "# 2\n",
    "r1=120\n",
    "r2=330\n",
    "r3=240\n",
    "\n",
    "l=1.6e-3\n",
    "v=9\n",
    "\n",
    "tao=l/(r1*r2/(r2+r1)+r3)\n",
    "# print(tao)\n",
    "# e**(-t/tao)=0.63\n",
    "\n",
    "t0=-tao*log(1-0.63,e)\n",
    "print(t0)\n",
    "\n"
   ]
  },
  {
   "cell_type": "code",
   "execution_count": 5,
   "metadata": {},
   "outputs": [
    {
     "name": "stdout",
     "output_type": "stream",
     "text": [
      "0.08\n",
      "0.17777777777777778\n",
      "13.200000000000001\n",
      "0.17777777777777778\n",
      "0.08\n"
     ]
    }
   ],
   "source": [
    "# 3\n",
    "\n",
    "r1=r2=48\n",
    "r3=117\n",
    "r4=87\n",
    "l=691e-3\n",
    "v=24\n",
    "\n",
    "\n",
    "i1=v/(r1+r2+r3+r4)\n",
    "print(i1)\n",
    "i2=v/(r1+r4)\n",
    "print(i2)\n",
    "v1=i1*(r2+r3)\n",
    "print(v1)\n",
    "print(i2)\n",
    "print(i1)\n"
   ]
  },
  {
   "cell_type": "code",
   "execution_count": 6,
   "metadata": {},
   "outputs": [
    {
     "name": "stdout",
     "output_type": "stream",
     "text": [
      "0.04411764705882353\n",
      "0.05928115761630621\n",
      "0.04387739225143924\n",
      "-0.002389257236375789\n",
      "4.147058823529412\n",
      "5.572428815932783\n"
     ]
    }
   ],
   "source": [
    "# 4\n",
    "\n",
    "r1=r2=33\n",
    "r3=94\n",
    "r4=145\n",
    "l=240e-3\n",
    "v=12\n",
    "\n",
    "\n",
    "i1=v/(r1+r3+r4)\n",
    "print(i1)\n",
    "\n",
    "r23=r2*r3/(r2+r3)\n",
    "i2=v/(r1+r4+r23)\n",
    "print(i2)  #连通之后稳定的电流\n",
    "\n",
    "\n",
    "i3=i2/(r2+r3)*r3\n",
    "print(i3)\n",
    "\n",
    "tao=l/(r3+r2)\n",
    "# print(tao)\n",
    "t=5.5e-3\n",
    "i4=e**(-t/tao)*i3\n",
    "print(-i4)         # 向上？？？？？\n",
    "\n",
    "\n",
    "vi=v/(r1+r4+r3)*r3\n",
    "print(vi)\n",
    "\n",
    "\n",
    "print(l*i3/tao)\n",
    "\n",
    "\n",
    "\n",
    "\n",
    "\n"
   ]
  },
  {
   "cell_type": "code",
   "execution_count": 7,
   "metadata": {},
   "outputs": [
    {
     "name": "stdout",
     "output_type": "stream",
     "text": [
      "1.5370426148939396e-05\n"
     ]
    }
   ],
   "source": [
    "# 5\n",
    "c1=0.05e-6\n",
    "l1=420e-3\n",
    "i0=75e-3\n",
    "\n",
    "# 不懂为什么乘2\n",
    "q0=sqrt(2*l1*i0*i0*c1)\n",
    "print(q0)\n",
    "\n",
    "\n"
   ]
  },
  {
   "cell_type": "code",
   "execution_count": 8,
   "metadata": {},
   "outputs": [
    {
     "name": "stdout",
     "output_type": "stream",
     "text": [
      "0.005182629387269482\n"
     ]
    }
   ],
   "source": [
    "# 6\n",
    "r1=60\n",
    "r2=220\n",
    "r3=330\n",
    "r4=480\n",
    "l=8e-3\n",
    "c=250e-6\n",
    "# 这里micro是10**（-6）不是很理解\n",
    "v=9\n",
    "\n",
    "vc=v-v/(r2*r4/(r2+r4)+r1)*r1\n",
    "u=1/2*c*vc**2\n",
    "print(u)"
   ]
  },
  {
   "cell_type": "code",
   "execution_count": 9,
   "metadata": {},
   "outputs": [
    {
     "name": "stdout",
     "output_type": "stream",
     "text": [
      "162.21935916988778\n",
      "-0.0007842001853390817\n",
      "5.922624518777266\n",
      "0.001565781059053457\n",
      "Q1 = 0 and VL = 0\n"
     ]
    }
   ],
   "source": [
    "# 7\n",
    "c1=272e-6\n",
    "c2=258e-6\n",
    "c=c1*c2/(c1+c2)\n",
    "l=287e-3\n",
    "i0=254e-3\n",
    "\n",
    "\n",
    "\n",
    "w0=sqrt(1/l/c)\n",
    "print(w0)\n",
    "\n",
    "\n",
    "from math import pi,cos,radians,sin\n",
    "# T=2*pi/w0\n",
    "# print(T)\n",
    "t1=22.6e-3\n",
    "qmax=i0*sqrt(l*c)\n",
    "# print(qmax)\n",
    "q1=qmax*sin(w0*t1)\n",
    "print(q1)\n",
    "\n",
    "\n",
    "\n",
    "v1=-l*w0*i0*sin(w0*t1)\n",
    "print(v1)\n",
    "\n",
    "print(qmax)\n",
    "\n",
    "\n",
    "print('Q1 = 0 and VL = 0')"
   ]
  },
  {
   "cell_type": "code",
   "execution_count": null,
   "metadata": {},
   "outputs": [
    {
     "name": "stdout",
     "output_type": "stream",
     "text": [
      "0.0004050632911392405\n",
      "108.73162794573041\n",
      "465.66865914742584\n",
      "-247.34409333300502\n",
      "28.89308946204511\n",
      "0.0004050632911392405\n"
     ]
    }
   ],
   "source": [
    "# 8\n",
    "\n",
    "l1=316e-3\n",
    "l2=120e-3\n",
    "l=l1+l2\n",
    "r1=237\n",
    "c=194e-6\n",
    "v=12\n",
    "\n",
    "u1=1/2*l1*(v/r1)**2\n",
    "print(u1)\n",
    "\n",
    "w0=sqrt(1/l/c)\n",
    "print(w0)\n",
    "\n",
    "\n",
    "i0=v/r1\n",
    "qmax=i0*sqrt(l*c)*1000000\n",
    "print(qmax) # 这里乘1000000\n",
    "\n",
    "t1=5.15e-3\n",
    "q1=-qmax*sin(w0*t1)\n",
    "print(q1)\n",
    "\n",
    "t2 =pi / w0*1000\n",
    "print(t2)\n",
    "\n",
    "print(u1)\n",
    "\n"
   ]
  }
 ],
 "metadata": {
  "kernelspec": {
   "display_name": "Python 3",
   "language": "python",
   "name": "python3"
  },
  "language_info": {
   "codemirror_mode": {
    "name": "ipython",
    "version": 3
   },
   "file_extension": ".py",
   "mimetype": "text/x-python",
   "name": "python",
   "nbconvert_exporter": "python",
   "pygments_lexer": "ipython3",
   "version": "3.12.6"
  }
 },
 "nbformat": 4,
 "nbformat_minor": 2
}
